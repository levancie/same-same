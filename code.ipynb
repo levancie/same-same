{
 "cells": [
  {
   "cell_type": "markdown",
   "id": "125e83cc",
   "metadata": {},
   "source": [
    "First, import standard libraries:"
   ]
  },
  {
   "cell_type": "code",
   "execution_count": 1,
   "id": "d13eb9f9",
   "metadata": {},
   "outputs": [],
   "source": [
    "import pandas as pd\n",
    "import numpy as np\n",
    "import random\n",
    "import matplotlib.pyplot as plt"
   ]
  },
  {
   "cell_type": "markdown",
   "id": "9c9d3d06",
   "metadata": {},
   "source": [
    "The following dictionary reflects the actual game deck. Each key-value pair is one card, where the key is the index and the value is a list containing the names of the symbols on that card."
   ]
  },
  {
   "cell_type": "code",
   "execution_count": 2,
   "id": "c487e77c",
   "metadata": {},
   "outputs": [],
   "source": [
    "deck = {\n",
    "    0:['tet','dragon','guava','fan','xe om','bip beep!','conical hat','incense bowl'],\n",
    "    1:['chi pheo','dragon fruit','dragon','turtle','nem','red envelope','mangosteen','thuoc lao'],\n",
    "    2:['cyclo','bun cha','dragon','bluedragon','blue stool','tre trau','bum gun','water buffalo'],\n",
    "    3:['pho','cyclo','bip beep!','construction','mangosteen','bus','police','tran quoc pagoda'],\n",
    "    4:['nem','train','incense bowl','construction','bia hoi','rice','bum gun','lead ninja'],\n",
    "    5:['trung cake','oi gioi oi','iced coffee','bip beep!','cub bike','thuoc lao','lead ninja','bluedragon'],\n",
    "    6:['xe om','construction','mot, hai, ba, dzo','red envelope','water buffalo','iced coffee','flip flop','mausoleum'],\n",
    "    7:['water puppet','hammock','oi gioi oi','rice','cyclo','peach blossom','red envelope','fan'],\n",
    "    8:['guava','hammock','fish sauce','mangosteen','tre trau','lotus','lead ninja','mausoleum'],\n",
    "    9:['thuoc lao','rice','rice paddy','snake wine','tre trau','police','tet','flip flop'],\n",
    "    10:['dragon','ao dai','rice','tran quoc pagoda','moon cake','mausoleum','lantern','cub bike'],\n",
    "    11:['flip flop','dragon fruit','ao dai','conical hat','cyclo','swan boat','lead ninja','cockerel'],\n",
    "    12:['rice paddy','cockerel','blue stool','moon cake','oi gioi oi','bia hoi','xe om','mangosteen'],\n",
    "    13:['iced coffee','cockerel','hammock','banh mi','dragon','em oi!','train','police'],\n",
    "    14:['bun cha','trung cake','dragon fruit','moon cake','hammock','construction','anh yeu em!','tet'],\n",
    "    15:['iced coffee','dragon fruit','rice paddy','fan','bum gun','tran quoc pagoda','fish sauce','balut'],\n",
    "    16:['turtle','bip beep!','mot, hai, ba, dzo','bun cha','passion fruit','fish sauce','cockerel','rice'],\n",
    "    17:['bia hoi','tet','lotus','cathedral','cyclo','turtle','iced coffee','lantern'],\n",
    "    18:['mot, hai, ba, dzo','blue stool','nem','trung cake','lotus','fan','ao dai','police'],\n",
    "    19:['conical hat','blue stool','banh mi','water puppet','thuoc lao','construction','lantern','fish sauce'],\n",
    "    20:['em oi!','bun cha','fan','pho','thuoc lao','swan boat','mausoleum','bia hoi'],\n",
    "    21:['thuoc lao','guava','balut','chopsticks','mot, hai, ba, dzo','cyclo','train','moon cake'],\n",
    "    22:['bus','incense bowl','lantern','mot, hai, ba, dzo','dragon fruit','tre trau','em oi!','oi gioi oi'],\n",
    "    23:['conical hat','passion fruit','pho','nem','tre trau','peach blossom','iced coffee','moon cake'],\n",
    "    24:['ao dai','bus','bum gun','xe om','thuoc lao','passion fruit','cathedral','hammock'],\n",
    "    25:['peach blossom','bun cha','xe om','lead ninja','lantern','balut','police','chi pheo'],\n",
    "    26:['xe om','em oi!','nem','fish sauce','cyclo','anh yeu em!','cub bike','snake wine'],\n",
    "    27:['chi pheo','train','ao dai','oi gioi oi','pho','tet','fish sauce','water buffalo'],\n",
    "    28:['cathedral','nem','bun cha','flip flop','tran quoc pagoda','banh mi','guava','oi gioi oi'],\n",
    "    29:['train','lotus','bus','conical hat','bun cha','red envelope','rice paddy','cub bike'],\n",
    "    30:['red envelope','tet','tran quoc pagoda','passion fruit','lead ninja','blue stool','chopsticks','em oi!'],\n",
    "    31:['tre trau','chopsticks','cockerel','construction','cub bike','cathedral','chi pheo','fan'],\n",
    "    32:['snake wine','tran quoc pagoda','conical hat','mot, hai, ba, dzo','chi pheo','bluedragon','bia hoi','hammock'],\n",
    "    33:['iced coffee','water puppet','ao dai','bun cha','chopsticks','incense bowl','mangosteen','snake wine'],\n",
    "    34:['police','moon cake','red envelope','incense bowl','swan boat','bluedragon','cathedral','fish sauce'],\n",
    "    35:['hammock','bip beep!','rice paddy','nem','water buffalo','chopsticks','lantern','swan boat'],\n",
    "    36:['incense bowl','chi pheo','cyclo','rice paddy','mausoleum','passion fruit','trung cake','banh mi'],\n",
    "    37:['ao dai','construction','rice paddy','peach blossom','guava','bluedragon','em oi!','turtle'],\n",
    "    38:['bus','turtle','banh mi','fan','moon cake','lead ninja','water buffalo','snake wine'],\n",
    "    39:['swan boat','anh yeu em!','iced coffee','rice','bus','blue stool','chi pheo','guava'],\n",
    "    40:['conical hat','mausoleum','oi gioi oi','chopsticks','anh yeu em!','turtle','bum gun','police'],\n",
    "    41:['bip beep!','red envelope','tre trau','balut','ao dai','banh mi','anh yeu em!','bia hoi'],\n",
    "    42:['blue stool','cub bike','pho','hammock','turtle','flip flop','incense bowl','balut'],\n",
    "    43:['trung cake','mangosteen','em oi!','balut','water buffalo','cathedral','rice','conical hat'],\n",
    "    44:['tet','water puppet','nem','mausoleum','bus','cockerel','bluedragon','balut'],\n",
    "    45:['swan boat','tran quoc pagoda','tre trau','trung cake','xe om','turtle','train','water puppet'],\n",
    "    46:['chi pheo','water puppet','bum gun','bip beep!','em oi!','lotus','flip flop','moon cake'],\n",
    "    47:['anh yeu em!','rice paddy','lead ninja','dragon','mot, hai, ba, dzo','pho','water puppet','cathedral'],\n",
    "    48:['pho','dragon fruit','bluedragon','chopsticks','rice','lotus','xe om','banh mi'],\n",
    "    49:['bia hoi','fish sauce','trung cake','bus','peach blossom','chopsticks','dragon','flip flop'],\n",
    "    50:['cathedral','blue stool','bip beep!','mausoleum','snake wine','peach blossom','dragon fruit','train'],\n",
    "    51:['passion fruit','cub bike','water buffalo','police','water puppet','bia hoi','guava','dragon fruit'],\n",
    "    52:['lotus','dragon','snake wine','balut','passion fruit','swan boat','oi gioi oi','construction'],\n",
    "    53:['lantern','fan','mangosteen','anh yeu em!','bluedragon','train','passion fruit','flip flop'],\n",
    "    54:['banh mi','mot, hai, ba, dzo','cub bike','mangosteen','peach blossom','bum gun','tet','swan boat'],\n",
    "    55:['incense bowl','cockerel','thuoc lao','anh yeu em!','water buffalo','peach blossom','lotus','tran quoc pagoda'],\n",
    "    56:['lantern','cockerel','pho','bum gun','red envelope','guava','trung cake','snake wine'],\n",
    "}"
   ]
  },
  {
   "cell_type": "markdown",
   "id": "916d3702",
   "metadata": {},
   "source": [
    "Let's count up how many times each symbol appears, in total."
   ]
  },
  {
   "cell_type": "code",
   "execution_count": 3,
   "id": "a9adb7b5",
   "metadata": {},
   "outputs": [
    {
     "data": {
      "text/html": [
       "<div>\n",
       "<style scoped>\n",
       "    .dataframe tbody tr th:only-of-type {\n",
       "        vertical-align: middle;\n",
       "    }\n",
       "\n",
       "    .dataframe tbody tr th {\n",
       "        vertical-align: top;\n",
       "    }\n",
       "\n",
       "    .dataframe thead th {\n",
       "        text-align: right;\n",
       "    }\n",
       "</style>\n",
       "<table border=\"1\" class=\"dataframe\">\n",
       "  <thead>\n",
       "    <tr style=\"text-align: right;\">\n",
       "      <th></th>\n",
       "      <th>count</th>\n",
       "    </tr>\n",
       "  </thead>\n",
       "  <tbody>\n",
       "    <tr>\n",
       "      <th>count</th>\n",
       "      <td>57.0</td>\n",
       "    </tr>\n",
       "    <tr>\n",
       "      <th>mean</th>\n",
       "      <td>8.0</td>\n",
       "    </tr>\n",
       "    <tr>\n",
       "      <th>std</th>\n",
       "      <td>0.0</td>\n",
       "    </tr>\n",
       "    <tr>\n",
       "      <th>min</th>\n",
       "      <td>8.0</td>\n",
       "    </tr>\n",
       "    <tr>\n",
       "      <th>25%</th>\n",
       "      <td>8.0</td>\n",
       "    </tr>\n",
       "    <tr>\n",
       "      <th>50%</th>\n",
       "      <td>8.0</td>\n",
       "    </tr>\n",
       "    <tr>\n",
       "      <th>75%</th>\n",
       "      <td>8.0</td>\n",
       "    </tr>\n",
       "    <tr>\n",
       "      <th>max</th>\n",
       "      <td>8.0</td>\n",
       "    </tr>\n",
       "  </tbody>\n",
       "</table>\n",
       "</div>"
      ],
      "text/plain": [
       "       count\n",
       "count   57.0\n",
       "mean     8.0\n",
       "std      0.0\n",
       "min      8.0\n",
       "25%      8.0\n",
       "50%      8.0\n",
       "75%      8.0\n",
       "max      8.0"
      ]
     },
     "execution_count": 3,
     "metadata": {},
     "output_type": "execute_result"
    }
   ],
   "source": [
    "symbol_counts = {}\n",
    "\n",
    "for index, card in deck.items():\n",
    "    for symbol in card:\n",
    "        if symbol in symbol_counts.keys():\n",
    "            symbol_counts[symbol] += 1\n",
    "        else:\n",
    "            symbol_counts[symbol] = 1\n",
    "\n",
    "symbol_counts = pd.DataFrame.from_dict(symbol_counts, orient='index',columns=['count'])\n",
    "symbol_counts = symbol_counts.reset_index().rename(columns={'index':'symbol'})\n",
    "symbol_counts.describe()"
   ]
  },
  {
   "cell_type": "markdown",
   "id": "d92a57a4",
   "metadata": {},
   "source": [
    "Nice and simple. Each of the 57 symbols appears exactly 8 times. The creation of this DataFrame also gives us a handy way to get the list of symbols without having to wade through the deck dictionary again.\n",
    "\n",
    "But first, I'll create a helper function which tests whether two lists share at least one common element, returning simply `True` or `False`."
   ]
  },
  {
   "cell_type": "code",
   "execution_count": 4,
   "id": "040ca693",
   "metadata": {},
   "outputs": [],
   "source": [
    "def match(target, draw):\n",
    "    '''Returns True if the two lists share at least one common element'''\n",
    "    result = False\n",
    "    for x in target:\n",
    "        for y in draw:\n",
    "            if x==y:\n",
    "                result = True\n",
    "                return result\n",
    "    return result"
   ]
  },
  {
   "cell_type": "markdown",
   "id": "18d774d1",
   "metadata": {},
   "source": [
    "Next, I can transverse the integer range 0 through 56, corresponding to the card indexes, two times. This allows pairwise comparison between every card vs. every other card (including duplicate comparisons of A vs. B and B vs. A). We test each pair with the helper function, and if any pair fails to match, we get a printout of the offending indexes."
   ]
  },
  {
   "cell_type": "code",
   "execution_count": 5,
   "id": "2f818f4e",
   "metadata": {},
   "outputs": [],
   "source": [
    "for x in range(57):\n",
    "    for y in range(57):\n",
    "        target = deck[x]\n",
    "        draw = deck[y]\n",
    "        if match(target, draw):\n",
    "            continue\n",
    "        else:\n",
    "            print('Target {} and draw {} are NOT a match!'.format(x, y))"
   ]
  },
  {
   "cell_type": "markdown",
   "id": "f8df8275",
   "metadata": {},
   "source": [
    "Nothing printed.\n",
    "\n",
    "Well, originally, a whole bunch of stuff printed, but this was because I'd made a few typos in the original deck dictionary. Thanks for the targeted proofreading, Python!\n",
    "\n",
    "Once the data-entry errors were resolved, we could confirm that every card does, indeed, match every other card in the deck.\n",
    "\n",
    "Now, I will set aside the actual game cards and consider the idea of creating new, hypothetical Same Same cards. I will use the same set of 57 symbols (grabbed from the `symbol_counts` DataFrame above), and keep the convention of assigning eight symbols to a card with no replacement."
   ]
  },
  {
   "cell_type": "code",
   "execution_count": 6,
   "id": "def5f379",
   "metadata": {},
   "outputs": [],
   "source": [
    "def play_ss_random(n=1):\n",
    "    '''Simulate n trials of a hypothetical Same Same matching task with randomly-generated cards'''\n",
    "    \n",
    "    # Define list of all 57 possible symbols: The 'symbol' columns of the symbol_counts DataFrame\n",
    "    symbols = list(symbol_counts.symbol)\n",
    "    \n",
    "    # Create list to record the number of draws required to find a match for each trial\n",
    "    draws_list = []\n",
    "    \n",
    "    # Perform n trials\n",
    "    for trial in range(n):\n",
    "        \n",
    "        # Generate random combination of 8 symbols from the available 57\n",
    "        target = random.sample(symbols, 8)\n",
    "        \n",
    "        # Create draw counter\n",
    "        draws = 0\n",
    "        \n",
    "        # Set match state\n",
    "        is_match = False\n",
    "        \n",
    "        # Draw subsequent cards from the deck until a match is found\n",
    "        while is_match is False:\n",
    "            draw = random.sample(symbols, 8)\n",
    "            draws += 1\n",
    "            if sorted(target) == sorted(draw):\n",
    "                print('''Holy s#!+, the program generated a drawn card identical to the target card.\n",
    "                        The chances of that happening are about one in 1.6 billion.\n",
    "                        This is among the most unlikely things that will ever happen to you.''')\n",
    "                # Re-draw card to compensate for the incomprehensibly unlikely thing that just happened\n",
    "                # Don't increase the draw counter again; it's a mulligan\n",
    "                draw = random.sample(symbols, 8)\n",
    "            is_match = match(target, draw)\n",
    "        \n",
    "        draws_list.append(draws)\n",
    "    \n",
    "    return draws_list"
   ]
  },
  {
   "cell_type": "markdown",
   "id": "d3677be1",
   "metadata": {},
   "source": [
    "With my function created, I will run one million trials. Then, I'll follow a similar protocol to the creation of the `symbol_counts` dictionary, this time resulting in a DataFrame containing the various numbers of draws required to reach a match (`draw_count`), the number of times that draw count occurred across trials (`frequency`), and the frequency presented again as a percentage of the total (`rate(%)`)."
   ]
  },
  {
   "cell_type": "code",
   "execution_count": 7,
   "id": "917f69d1",
   "metadata": {},
   "outputs": [
    {
     "data": {
      "text/html": [
       "<div>\n",
       "<style scoped>\n",
       "    .dataframe tbody tr th:only-of-type {\n",
       "        vertical-align: middle;\n",
       "    }\n",
       "\n",
       "    .dataframe tbody tr th {\n",
       "        vertical-align: top;\n",
       "    }\n",
       "\n",
       "    .dataframe thead th {\n",
       "        text-align: right;\n",
       "    }\n",
       "</style>\n",
       "<table border=\"1\" class=\"dataframe\">\n",
       "  <thead>\n",
       "    <tr style=\"text-align: right;\">\n",
       "      <th></th>\n",
       "      <th>draw_count</th>\n",
       "      <th>frequency</th>\n",
       "      <th>rate(%)</th>\n",
       "    </tr>\n",
       "  </thead>\n",
       "  <tbody>\n",
       "    <tr>\n",
       "      <th>0</th>\n",
       "      <td>1</td>\n",
       "      <td>727030</td>\n",
       "      <td>72.7030</td>\n",
       "    </tr>\n",
       "    <tr>\n",
       "      <th>1</th>\n",
       "      <td>2</td>\n",
       "      <td>198478</td>\n",
       "      <td>19.8478</td>\n",
       "    </tr>\n",
       "    <tr>\n",
       "      <th>2</th>\n",
       "      <td>3</td>\n",
       "      <td>54293</td>\n",
       "      <td>5.4293</td>\n",
       "    </tr>\n",
       "    <tr>\n",
       "      <th>3</th>\n",
       "      <td>4</td>\n",
       "      <td>14711</td>\n",
       "      <td>1.4711</td>\n",
       "    </tr>\n",
       "    <tr>\n",
       "      <th>4</th>\n",
       "      <td>5</td>\n",
       "      <td>3920</td>\n",
       "      <td>0.3920</td>\n",
       "    </tr>\n",
       "    <tr>\n",
       "      <th>5</th>\n",
       "      <td>6</td>\n",
       "      <td>1177</td>\n",
       "      <td>0.1177</td>\n",
       "    </tr>\n",
       "    <tr>\n",
       "      <th>6</th>\n",
       "      <td>7</td>\n",
       "      <td>287</td>\n",
       "      <td>0.0287</td>\n",
       "    </tr>\n",
       "    <tr>\n",
       "      <th>7</th>\n",
       "      <td>8</td>\n",
       "      <td>75</td>\n",
       "      <td>0.0075</td>\n",
       "    </tr>\n",
       "    <tr>\n",
       "      <th>8</th>\n",
       "      <td>9</td>\n",
       "      <td>20</td>\n",
       "      <td>0.0020</td>\n",
       "    </tr>\n",
       "    <tr>\n",
       "      <th>9</th>\n",
       "      <td>10</td>\n",
       "      <td>6</td>\n",
       "      <td>0.0006</td>\n",
       "    </tr>\n",
       "    <tr>\n",
       "      <th>10</th>\n",
       "      <td>11</td>\n",
       "      <td>1</td>\n",
       "      <td>0.0001</td>\n",
       "    </tr>\n",
       "    <tr>\n",
       "      <th>11</th>\n",
       "      <td>12</td>\n",
       "      <td>2</td>\n",
       "      <td>0.0002</td>\n",
       "    </tr>\n",
       "  </tbody>\n",
       "</table>\n",
       "</div>"
      ],
      "text/plain": [
       "    draw_count  frequency  rate(%)\n",
       "0            1     727030  72.7030\n",
       "1            2     198478  19.8478\n",
       "2            3      54293   5.4293\n",
       "3            4      14711   1.4711\n",
       "4            5       3920   0.3920\n",
       "5            6       1177   0.1177\n",
       "6            7        287   0.0287\n",
       "7            8         75   0.0075\n",
       "8            9         20   0.0020\n",
       "9           10          6   0.0006\n",
       "10          11          1   0.0001\n",
       "11          12          2   0.0002"
      ]
     },
     "execution_count": 7,
     "metadata": {},
     "output_type": "execute_result"
    }
   ],
   "source": [
    "ss_random_100_trials = play_ss_random(1000000)\n",
    "\n",
    "draw_counts = {}\n",
    "\n",
    "for draw in ss_random_100_trials:\n",
    "    if draw in draw_counts.keys():\n",
    "        draw_counts[draw] += 1\n",
    "    else:\n",
    "        draw_counts[draw] = 1\n",
    "\n",
    "draw_counts = pd.DataFrame.from_dict(draw_counts, orient='index')\n",
    "draw_counts = draw_counts.reset_index().rename(columns={'index':'draw_count',0:'frequency'})\n",
    "draw_counts = draw_counts.sort_values(by='draw_count')\n",
    "draw_counts['rate(%)'] = round(draw_counts['frequency'] / draw_counts['frequency'].sum() * 100, 4)\n",
    "draw_counts"
   ]
  },
  {
   "cell_type": "markdown",
   "id": "1062cec5",
   "metadata": {},
   "source": [
    "So, we see that our randomly-generated Same Same cards yielded a first-try match roughly 73% of the time, and so on. Here are the percentages visualized in a bar chart:"
   ]
  },
  {
   "cell_type": "code",
   "execution_count": 17,
   "id": "ffb8e481",
   "metadata": {},
   "outputs": [
    {
     "data": {
      "image/png": "[encoded data removed]",
      "text/plain": [
       "<Figure size 432x288 with 1 Axes>"
      ]
     },
     "metadata": {
      "needs_background": "light"
     },
     "output_type": "display_data"
    }
   ],
   "source": [
    "plt.bar(draw_counts['draw_count'], draw_counts['rate(%)'])\n",
    "plt.title('Number of draws required to find a match after 1mil trials')\n",
    "plt.xlabel('draw count')\n",
    "plt.ylabel('rate (%)')\n",
    "plt.savefig('images/rate_by_draw_count.png', format='png', facecolor='white', dpi=100)\n",
    "plt.show()"
   ]
  }
 ],
 "metadata": {
  "kernelspec": {
   "display_name": "Python 3 (ipykernel)",
   "language": "python",
   "name": "python3"
  },
  "language_info": {
   "codemirror_mode": {
    "name": "ipython",
    "version": 3
   },
   "file_extension": ".py",
   "mimetype": "text/x-python",
   "name": "python",
   "nbconvert_exporter": "python",
   "pygments_lexer": "ipython3",
   "version": "3.9.7"
  }
 },
 "nbformat": 4,
 "nbformat_minor": 5
}
